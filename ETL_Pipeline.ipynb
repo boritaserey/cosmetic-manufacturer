{
  "nbformat": 4,
  "nbformat_minor": 0,
  "metadata": {
    "colab": {
      "provenance": [],
      "authorship_tag": "ABX9TyPKz6uYrMNm/OGsD2O41pMK",
      "include_colab_link": true
    },
    "kernelspec": {
      "name": "python3",
      "display_name": "Python 3"
    },
    "language_info": {
      "name": "python"
    }
  },
  "cells": [
    {
      "cell_type": "markdown",
      "metadata": {
        "id": "view-in-github",
        "colab_type": "text"
      },
      "source": [
        "<a href=\"https://colab.research.google.com/github/boritaserey/cosmetic-manufacturer/blob/main/ETL_Pipeline.ipynb\" target=\"_parent\"><img src=\"https://colab.research.google.com/assets/colab-badge.svg\" alt=\"Open In Colab\"/></a>"
      ]
    },
    {
      "cell_type": "code",
      "source": [
        "!pip install pandas faker openpyxl\n",
        "import sqlite3\n",
        "import pandas as pd\n",
        "from google.colab import files\n",
        "from google.colab import drive\n",
        "from random import randint, uniform\n",
        "from datetime import datetime, timedelta\n",
        "from faker import Faker\n",
        "import os"
      ],
      "metadata": {
        "colab": {
          "base_uri": "https://localhost:8080/"
        },
        "id": "aezVZyCACii1",
        "outputId": "03eec165-9e75-41fb-eb29-63206af3ba60"
      },
      "execution_count": 5,
      "outputs": [
        {
          "output_type": "stream",
          "name": "stdout",
          "text": [
            "Requirement already satisfied: pandas in /usr/local/lib/python3.10/dist-packages (2.2.2)\n",
            "Requirement already satisfied: faker in /usr/local/lib/python3.10/dist-packages (33.0.0)\n",
            "Requirement already satisfied: openpyxl in /usr/local/lib/python3.10/dist-packages (3.1.5)\n",
            "Requirement already satisfied: numpy>=1.22.4 in /usr/local/lib/python3.10/dist-packages (from pandas) (1.26.4)\n",
            "Requirement already satisfied: python-dateutil>=2.8.2 in /usr/local/lib/python3.10/dist-packages (from pandas) (2.8.2)\n",
            "Requirement already satisfied: pytz>=2020.1 in /usr/local/lib/python3.10/dist-packages (from pandas) (2024.2)\n",
            "Requirement already satisfied: tzdata>=2022.7 in /usr/local/lib/python3.10/dist-packages (from pandas) (2024.2)\n",
            "Requirement already satisfied: typing-extensions in /usr/local/lib/python3.10/dist-packages (from faker) (4.12.2)\n",
            "Requirement already satisfied: et-xmlfile in /usr/local/lib/python3.10/dist-packages (from openpyxl) (2.0.0)\n",
            "Requirement already satisfied: six>=1.5 in /usr/local/lib/python3.10/dist-packages (from python-dateutil>=2.8.2->pandas) (1.16.0)\n"
          ]
        }
      ]
    },
    {
      "cell_type": "code",
      "source": [],
      "metadata": {
        "id": "G4gVf9we0QP2"
      },
      "execution_count": 2,
      "outputs": []
    },
    {
      "cell_type": "code",
      "source": [
        "try:\n",
        "    drive.mount('/content/drive')\n",
        "except:\n",
        "    pass # Handle case where drive is already mounted\n",
        "\n",
        "\n",
        "# Create the path if it doesn't exist\n",
        "db_path = '/content/drive/My Drive/cosmeticETL.db'\n",
        "os.makedirs(os.path.dirname(db_path), exist_ok=True)\n",
        "\n",
        "# Connect to the database\n",
        "conn = sqlite3.connect(db_path)\n",
        "cursor = conn.cursor()\n",
        "\n",
        "#here\n",
        "#Create data with Faker\n",
        "fake = Faker()\n",
        "\n",
        "#Connect to sql database\n",
        "#conn = sqlite3.connect('cosmetics_manufacturer.db')\n",
        "cursor = conn.cursor()        #cursor fuction is used to retrieve and manipulate data one row at a time\n",
        "\n",
        "#Step 1: Create Table based on ERD\n",
        "\n",
        "#Product\n",
        "cursor.execute('''\n",
        "CREATE TABLE IF NOT EXISTS Product (\n",
        "    Product_ID INTEGER PRIMARY KEY,\n",
        "    Product_Name VARCHAR(30),\n",
        "    Category VARCHAR(30),\n",
        "    Size VARCHAR(10),\n",
        "    Color VARCHAR(30),\n",
        "    Smell VARCHAR(30),\n",
        "    Ingredients VARCHAR(255),\n",
        "    Packaging VARCHAR(30),\n",
        "    Price DECIMAL(10, 2),\n",
        "    StockQuantity INTEGER,\n",
        "    ManufacturingDate DATE,\n",
        "    Expirationdate DATE,\n",
        "    Supplier_ID INTERGER\n",
        ")\n",
        "''')\n",
        "\n",
        "#Suppliers\n",
        "cursor.execute('''\n",
        "CREATE TABLE IF NOT EXISTS Suppliers (\n",
        "    Supplier_ID INTEGER PRIMARY KEY,\n",
        "    Supplier_Name VARCHAR(50),\n",
        "    Supplier_ContactNumber VARCHAR(15),\n",
        "    Supplier_Address VARCHAR(100),\n",
        "    Supplier_City VARCHAR(30),\n",
        "    Supplier_Country VARCHAR(30),\n",
        "    ProductsSupplied VARCHAR(50)\n",
        ")\n",
        "''')\n",
        "\n",
        "#Inventory\n",
        "cursor.execute('''CREATE TABLE IF NOT EXISTS Inventory (\n",
        "    Inventory_ID INTEGER PRIMARY KEY,\n",
        "    Product_ID INTEGER,\n",
        "    WarehouseID INTEGER,\n",
        "    QuantityInStock INTEGER,\n",
        "    UnitPrice DECIMAL(15, 2),\n",
        "    ReorderLevel INTEGER,\n",
        "    DateReceived DATE\n",
        ")''')\n",
        "\n",
        "#Warehouse\n",
        "cursor.execute('''\n",
        "CREATE TABLE IF NOT EXISTS Warehouse (\n",
        "    WarehouseID INTEGER PRIMARY KEY,\n",
        "    WarehouseLocation VARCHAR(30),\n",
        "    Capacity_CubicMeters DECIMAL(10, 2),\n",
        "    Manager_ID INTEGER\n",
        ")\n",
        "''')\n",
        "\n",
        "#Customer\n",
        "cursor.execute('''\n",
        "CREATE TABLE IF NOT EXISTS Customer (\n",
        "    Customer_ID INTEGER PRIMARY KEY,\n",
        "    Customer_Name VARCHAR(50),\n",
        "    Customer_Email VARCHAR(50),\n",
        "    Customer_Address VARCHAR(100),\n",
        "    Customer_ContactNumber VARCHAR(15),\n",
        "    LoyaltyStatus ENUM\n",
        ")\n",
        "''')\n",
        "\n",
        "#Order\n",
        "cursor.execute('''\n",
        "CREATE TABLE IF NOT EXISTS \"Order\" (\n",
        "    Order_ID INTEGER PRIMARY KEY,\n",
        "    Order_Date DATETIME,\n",
        "    Customer_ID INTEGER,\n",
        "    TotalAmount DECIMAL(10, 2),\n",
        "    ShippingDate DATETIME,\n",
        "    Order_Status VARCHAR(20)\n",
        ")\n",
        "''')\n",
        "\n",
        "#OrderItem\n",
        "cursor.execute('''CREATE TABLE IF NOT EXISTS OrderItem (\n",
        "    OrderItem_ID INTEGER PRIMARY KEY,\n",
        "    Order_ID INTEGER,\n",
        "    Product_ID INTEGER,\n",
        "    Order_Quantity INTEGER,\n",
        "    UnitPrice DECIMAL(10 ,2)\n",
        ")''')\n",
        "\n",
        "#Batch\n",
        "cursor.execute('''CREATE TABLE IF NOT EXISTS Batch (\n",
        "    BatchID INTEGER PRIMARY KEY,\n",
        "    Product_ID INTEGER,\n",
        "    BatchDate DATE,\n",
        "    ExpirationDate DATE,\n",
        "    QuantityProduced INTEGER,\n",
        "    QualityCheckStatus VARCHAR(20)\n",
        ")''')\n",
        "\n",
        "#Manager\n",
        "cursor.execute('''CREATE TABLE IF NOT EXISTS Manager (\n",
        "    Manager_ID INTEGER PRIMARY KEY,\n",
        "    Manager_Name VARCHAR(50),\n",
        "    Department VARCHAR(30),\n",
        "    Manager_ContactNumber VARCHAR(15)\n",
        ")''')\n",
        "\n",
        "#Step 2: Generate Synthetic Data and Populate Tables\n",
        "\n",
        "# Define a function to generate a random date\n",
        "def random_date(start, end):\n",
        "    return start + timedelta(days=randint(0, (end - start).days))\n",
        "\n",
        "# Populate Product\n",
        "products = []\n",
        "cursor.execute(\"SELECT COUNT(*) FROM Product\")\n",
        "product_count = cursor.fetchone()[0]\n",
        "start_id = product_count + 1\n",
        "\n",
        "for i in range(start_id, start_id + 101):\n",
        "    products.append((\n",
        "        i,\n",
        "        fake.word(),\n",
        "        fake.word(),\n",
        "        f\"{randint(1, 5)}kg\",\n",
        "        fake.color_name(),\n",
        "        fake.word(),\n",
        "        fake.sentence(),\n",
        "        fake.word(),\n",
        "        round(uniform(5, 500), 2),\n",
        "        randint(0, 1000),\n",
        "        random_date(datetime(2022, 1, 1), datetime(2023, 1, 1)).strftime('%Y-%m-%d'),\n",
        "        random_date(datetime(2023, 1, 1), datetime(2025, 1, 1)).strftime('%Y-%m-%d'),\n",
        "        randint(1, 10)\n",
        "    ))\n",
        "# Insert data into the Products table\n",
        "cursor.executemany('''\n",
        "INSERT INTO Product (Product_ID, Product_Name, Category, Size, Color, Smell, Ingredients, Packaging, Price, StockQuantity, ManufacturingDate, ExpirationDate, Supplier_ID)\n",
        "VALUES (?, ?, ?, ?, ?, ?, ?, ?, ?, ?, ?, ?, ?)\n",
        "''', products)\n",
        "\n",
        "# Populate Suppliers\n",
        "suppliers = []\n",
        "cursor.execute(\"SELECT COUNT(*) FROM Suppliers\")\n",
        "supplier_count = cursor.fetchone()[0]\n",
        "start_id = supplier_count + 1\n",
        "\n",
        "\n",
        "for i in range(start_id, start_id + 11):\n",
        "    suppliers.append((\n",
        "        i,\n",
        "        fake.company(),\n",
        "        fake.phone_number(),\n",
        "        fake.address(),\n",
        "        fake.city(),\n",
        "        fake.country(),\n",
        "        fake.word()\n",
        "    ))\n",
        "# Insert data into the Suppliers table\n",
        "cursor.executemany('''\n",
        "INSERT INTO Suppliers (Supplier_ID, Supplier_Name, Supplier_ContactNumber, Supplier_Address, Supplier_City, Supplier_Country, ProductsSupplied)\n",
        "VALUES (?, ?, ?, ?, ?, ?, ?)\n",
        "''', suppliers)\n",
        "\n",
        "\n",
        "# Populate Inventory\n",
        "cursor.execute(\"SELECT MAX(Inventory_ID) FROM Inventory\") #get the max existing Inventory_ID\n",
        "max_id = cursor.fetchone()[0]\n",
        "if max_id is None:\n",
        "    max_id = 0 #start at 1 if table is empty\n",
        "start_id = max_id + 1\n",
        "\n",
        "\n",
        "inventory = []\n",
        "for i in range(start_id, start_id + 151):  # Assuming 150 inventory records\n",
        "    inventory.append((\n",
        "        i,\n",
        "        randint(1, 100),  # Product_ID (1-100)\n",
        "        randint(1, 10),  # WarehouseID (1-10)\n",
        "        randint(0, 1000),  # QuantityInStock (0-1000)\n",
        "        round(uniform(5, 500), 2),  # UnitPrice (5-500)\n",
        "        randint(10, 50),  # ReorderLevel (10-50)\n",
        "        random_date(datetime(2023, 1, 1), datetime(2023, 12, 31)).strftime('%Y-%m-%d')  # DateReceived\n",
        "    ))\n",
        "# Insert data into the Inventory table\n",
        "cursor.executemany('''INSERT INTO Inventory (Inventory_ID, Product_ID, WarehouseID, QuantityInStock, UnitPrice, ReorderLevel, DateReceived) VALUES (?, ?, ?, ?, ?, ?, ?)''', inventory)\n",
        "\n",
        "\n",
        "#Populate Warehouse\n",
        "warehouses = []\n",
        "cursor.execute(\"SELECT COUNT(*) FROM Warehouse\")\n",
        "warehouse_count = cursor.fetchone()[0]\n",
        "start_id = warehouse_count + 1\n",
        "\n",
        "for i in range(start_id, start_id + 11):  # Assuming 10 warehouses\n",
        "    warehouses.append((\n",
        "        i,\n",
        "        fake.city(),  # WarehouseLocation\n",
        "        round(uniform(100, 1000), 2),  # Capacity_CubicMeters (100 to 1000 cubic meters)\n",
        "        randint(1, 10)  # Manager_ID (assuming we have 10 managers)\n",
        "    ))\n",
        "# Insert data into the Warehouse table\n",
        "cursor.executemany('''\n",
        "    INSERT INTO Warehouse (WarehouseID, WarehouseLocation, Capacity_CubicMeters, Manager_ID)\n",
        "    VALUES (?, ?, ?, ?)\n",
        "''', warehouses)\n",
        "\n",
        "\n",
        "# Populate Customers\n",
        "customers = []\n",
        "cursor.execute(\"SELECT COUNT(*) FROM Customer\")  # Get the current count of customers\n",
        "customer_count = cursor.fetchone()[0]\n",
        "start_id = customer_count + 1\n",
        "\n",
        "for i in range(start_id, start_id + 51):\n",
        "    customers.append((\n",
        "        i,\n",
        "        fake.name(),\n",
        "        fake.email(),\n",
        "        fake.address(),\n",
        "        fake.phone_number(),\n",
        "        fake.random_element(elements=('Bronze', 'Silver', 'Gold', 'Platinum'))\n",
        "    ))\n",
        "# Insert data into the Customers table\n",
        "cursor.executemany('''\n",
        "INSERT INTO Customer (Customer_ID, Customer_Name, Customer_Email, Customer_Address, Customer_ContactNumber, LoyaltyStatus)\n",
        "VALUES (?, ?, ?, ?, ?, ?)\n",
        "''', customers)\n",
        "\n",
        "\n",
        "# Populate Orders\n",
        "orders = []\n",
        "# Get the current maximum Order_ID to avoid duplicates\n",
        "cursor.execute(\"SELECT MAX(Order_ID) FROM `Order`\")\n",
        "max_order_id = cursor.fetchone()[0]\n",
        "if max_order_id is None:\n",
        "    max_order_id = 0  # Start at 1 if the table is empty\n",
        "start_id = max_order_id + 1\n",
        "\n",
        "\n",
        "for i in range(start_id, start_id + 101):\n",
        "    orders.append((\n",
        "        i,\n",
        "        random_date(datetime(2023, 1, 1), datetime(2023, 12, 31)).strftime('%Y-%m-%d %H:%M:%S'),\n",
        "        randint(1, 50),\n",
        "        round(uniform(20, 2000), 2),\n",
        "        random_date(datetime(2023, 1, 1), datetime(2024, 1, 1)).strftime('%Y-%m-%d %H:%M:%S'),\n",
        "        fake.random_element(elements=('Pending', 'Shipped', 'Delivered', 'Cancelled'))\n",
        "    ))\n",
        "# Insert data into the Orders table\n",
        "cursor.executemany('''\n",
        "INSERT INTO \"Order\" (Order_ID, Order_Date, Customer_ID, TotalAmount, ShippingDate, Order_Status)\n",
        "VALUES (?, ?, ?, ?, ?, ?)\n",
        "''', orders)\n",
        "\n",
        "#populate OrderItem\n",
        "order_items = []\n",
        "# Get the current maximum OrderItem_ID to avoid duplicates\n",
        "cursor.execute(\"SELECT MAX(OrderItem_ID) FROM OrderItem\")\n",
        "max_order_item_id = cursor.fetchone()[0]\n",
        "if max_order_item_id is None:\n",
        "    max_order_item_id = 0  # Start at 1 if the table is empty\n",
        "start_id = max_order_item_id + 1\n",
        "\n",
        "for i in range(start_id, start_id + 201):  # Assuming 200 order items\n",
        "    order_items.append((\n",
        "        i,\n",
        "        randint(1, 100),  # Order_ID (1-100)\n",
        "        randint(1, 100),  # Product_ID (1-100)\n",
        "        randint(1, 20),  # Order_Quantity (1-20)\n",
        "        round(uniform(5, 500), 2)  # UnitPrice (5-500)\n",
        "    ))\n",
        "# Insert data into the OrderItem table\n",
        "cursor.executemany('''INSERT INTO OrderItem (OrderItem_ID, Order_ID, Product_ID, Order_Quantity, UnitPrice) VALUES (?, ?, ?, ?, ?)''', order_items)\n",
        "\n",
        "#Populate Batch\n",
        "batches = []\n",
        "cursor.execute(\"SELECT MAX(BatchID) FROM Batch\")\n",
        "max_batch_id = cursor.fetchone()[0]\n",
        "if max_batch_id is None:\n",
        "    max_batch_id = 0  # Start at 1 if the table is empty\n",
        "start_id = max_batch_id + 1\n",
        "\n",
        "\n",
        "for i in range(start_id, start_id + 101):  # Assuming 100 batches\n",
        "    batches.append((\n",
        "        i,\n",
        "        randint(1, 100),  # Product_ID (1-100)\n",
        "        random_date(datetime(2023, 1, 1), datetime(2023, 6, 30)).strftime('%Y-%m-%d'),  # BatchDate\n",
        "        random_date(datetime(2024, 1, 1), datetime(2025, 12, 31)).strftime('%Y-%m-%d'),  # ExpirationDate\n",
        "        randint(500, 5000),  # QuantityProduced (500-5000)\n",
        "        fake.random_element(elements=('Pass', 'Fail'))  # QualityCheckStatus\n",
        "    ))\n",
        "# Insert data into the Batches table\n",
        "cursor.executemany('''INSERT INTO Batch (BatchID, Product_ID, BatchDate, ExpirationDate, QuantityProduced, QualityCheckStatus) VALUES (?, ?, ?, ?, ?, ?)''', batches)\n",
        "\n",
        "\n",
        "# Populate Manager\n",
        "managers = []\n",
        "# Get the current maximum Manager_ID to avoid duplicates\n",
        "cursor.execute(\"SELECT MAX(Manager_ID) FROM Manager\")\n",
        "max_manager_id = cursor.fetchone()[0]\n",
        "if max_manager_id is None:\n",
        "    max_manager_id = 0  # Start at 1 if the table is empty\n",
        "start_id = max_manager_id + 1\n",
        "\n",
        "for i in range(start_id, start_id + 11):  # Assuming 10 managers\n",
        "    managers.append((\n",
        "        i,\n",
        "        fake.name(),  # Manager_Name\n",
        "        fake.job(),  # Department\n",
        "        fake.phone_number()  # Manager_ContactNumber\n",
        "    ))\n",
        "# Insert data into the Manager table\n",
        "cursor.executemany('''INSERT INTO Manager (Manager_ID, Manager_Name, Department, Manager_ContactNumber) VALUES (?, ?, ?, ?)''', managers)\n",
        "\n",
        "#end db here\n",
        "\n",
        "conn.commit()\n",
        "\n",
        "\n",
        "\n",
        "\n",
        "\n"
      ],
      "metadata": {
        "id": "qz9cJ2v_RX8m"
      },
      "execution_count": 6,
      "outputs": []
    },
    {
      "cell_type": "code",
      "source": [
        "# View the tables in the database\n",
        "cursor.execute(\"SELECT name FROM sqlite_master WHERE type='table';\")\n",
        "tables = cursor.fetchall()\n",
        "print(\"Tables in the database:\")\n",
        "for table in tables:\n",
        "    print(table[0])\n",
        "\n",
        "# View data in a specific table (e.g., 'Product')\n",
        "df = pd.read_sql_query(\"SELECT * FROM Product;\", conn)\n",
        "print(\"\\nData in 'Product' table:\")\n",
        "print(df)\n",
        "\n",
        "\n",
        "# Step 1: Extract data\n",
        "query = \"SELECT * FROM Product;\"  # Replace 'Product' with the table name you need\n",
        "df = pd.read_sql_query(query, conn)\n",
        "\n",
        "# Step 2: Transform data\n",
        "df['Discounted_Price'] = df['Price'] * 0.9  # Example transformation\n",
        "\n",
        "# Step 3: Load data (save to CSV)\n",
        "df.to_csv('transformed_data.csv', index=False)\n",
        "files.download('transformed_data.csv')  # Download the CSV file\n",
        "\n",
        "print(\"ETL pipeline completed!\")\n",
        "\n",
        "\n",
        "\n",
        "\n"
      ],
      "metadata": {
        "colab": {
          "base_uri": "https://localhost:8080/",
          "height": 918
        },
        "id": "6CpWZsCzf6KU",
        "outputId": "a6aa027a-86dd-40b3-d92c-e59a372624d0"
      },
      "execution_count": 7,
      "outputs": [
        {
          "output_type": "stream",
          "name": "stdout",
          "text": [
            "Tables in the database:\n",
            "Product\n",
            "Suppliers\n",
            "Inventory\n",
            "Warehouse\n",
            "Customer\n",
            "Order\n",
            "OrderItem\n",
            "Batch\n",
            "Manager\n",
            "\n",
            "Data in 'Product' table:\n",
            "     Product_ID Product_Name   Category Size          Color      Smell  \\\n",
            "0             1     discover       true  1kg      Gainsboro  difficult   \n",
            "1             2       recent   Congress  5kg          Linen      crime   \n",
            "2             3       rather    feeling  3kg        Thistle     figure   \n",
            "3             4         free         my  4kg  DarkSlateBlue       fact   \n",
            "4             5        these       fall  2kg     DarkViolet     simple   \n",
            "..          ...          ...        ...  ...            ...        ...   \n",
            "96           97         lose     number  1kg        DimGray     course   \n",
            "97           98        quite  candidate  2kg     LightCoral       blue   \n",
            "98           99        space     anyone  2kg        Fuchsia        yet   \n",
            "99          100     Congress     better  3kg      Gainsboro      front   \n",
            "100         101        learn       able  4kg          Khaki      north   \n",
            "\n",
            "                                     Ingredients Packaging   Price  \\\n",
            "0                    Enough approach hear other.  computer  426.79   \n",
            "1    This with name deep page opportunity about.      door  407.25   \n",
            "2            Present school born sister kitchen.      hope  227.05   \n",
            "3                           Sort hair forget so.     learn  113.34   \n",
            "4                 Age leg drug heavy better his.    strong  291.55   \n",
            "..                                           ...       ...     ...   \n",
            "96   Drug camera eight instead memory deal poor.     north  411.73   \n",
            "97         Minute policy method wonder response.    sister  311.40   \n",
            "98                  These whose them she return.    should  108.48   \n",
            "99             Four yeah test office air threat.       lay  120.43   \n",
            "100                          Take modern speech.     every  125.45   \n",
            "\n",
            "     StockQuantity ManufacturingDate Expirationdate  Supplier_ID  \n",
            "0               83        2022-03-29     2024-12-26            5  \n",
            "1               54        2022-01-16     2024-06-12            8  \n",
            "2               58        2022-06-26     2024-08-07            5  \n",
            "3              287        2022-07-15     2023-10-21            9  \n",
            "4              931        2022-09-22     2023-10-09            3  \n",
            "..             ...               ...            ...          ...  \n",
            "96             512        2022-05-20     2023-06-14            2  \n",
            "97             403        2022-06-03     2023-12-18            2  \n",
            "98             611        2022-08-31     2024-09-04            9  \n",
            "99             473        2022-08-01     2023-05-16            5  \n",
            "100            827        2022-02-05     2023-01-31           10  \n",
            "\n",
            "[101 rows x 13 columns]\n"
          ]
        },
        {
          "output_type": "display_data",
          "data": {
            "text/plain": [
              "<IPython.core.display.Javascript object>"
            ],
            "application/javascript": [
              "\n",
              "    async function download(id, filename, size) {\n",
              "      if (!google.colab.kernel.accessAllowed) {\n",
              "        return;\n",
              "      }\n",
              "      const div = document.createElement('div');\n",
              "      const label = document.createElement('label');\n",
              "      label.textContent = `Downloading \"${filename}\": `;\n",
              "      div.appendChild(label);\n",
              "      const progress = document.createElement('progress');\n",
              "      progress.max = size;\n",
              "      div.appendChild(progress);\n",
              "      document.body.appendChild(div);\n",
              "\n",
              "      const buffers = [];\n",
              "      let downloaded = 0;\n",
              "\n",
              "      const channel = await google.colab.kernel.comms.open(id);\n",
              "      // Send a message to notify the kernel that we're ready.\n",
              "      channel.send({})\n",
              "\n",
              "      for await (const message of channel.messages) {\n",
              "        // Send a message to notify the kernel that we're ready.\n",
              "        channel.send({})\n",
              "        if (message.buffers) {\n",
              "          for (const buffer of message.buffers) {\n",
              "            buffers.push(buffer);\n",
              "            downloaded += buffer.byteLength;\n",
              "            progress.value = downloaded;\n",
              "          }\n",
              "        }\n",
              "      }\n",
              "      const blob = new Blob(buffers, {type: 'application/binary'});\n",
              "      const a = document.createElement('a');\n",
              "      a.href = window.URL.createObjectURL(blob);\n",
              "      a.download = filename;\n",
              "      div.appendChild(a);\n",
              "      a.click();\n",
              "      div.remove();\n",
              "    }\n",
              "  "
            ]
          },
          "metadata": {}
        },
        {
          "output_type": "display_data",
          "data": {
            "text/plain": [
              "<IPython.core.display.Javascript object>"
            ],
            "application/javascript": [
              "download(\"download_6312f360-e1f1-4e6f-860d-3d3e9f009b03\", \"transformed_data.csv\", 12548)"
            ]
          },
          "metadata": {}
        },
        {
          "output_type": "stream",
          "name": "stdout",
          "text": [
            "ETL pipeline completed!\n"
          ]
        }
      ]
    },
    {
      "cell_type": "code",
      "source": [
        "import sqlite3\n",
        "\n",
        "conn = sqlite3.connect('/content/drive/My Drive/cosmeticETL.db')\n",
        "cursor = conn.cursor()\n",
        "\n",
        "# Delete all data in the Product table\n",
        "cursor.execute(\"DELETE FROM Product;\")\n",
        "conn.commit()\n",
        "\n",
        "print(\"Irrelevant data removed from the Product table.\")\n",
        "conn.close()\n"
      ],
      "metadata": {
        "colab": {
          "base_uri": "https://localhost:8080/"
        },
        "id": "NxU_ovhtFKde",
        "outputId": "426bf4f5-ca6e-45d8-c4dc-72474c342849"
      },
      "execution_count": 10,
      "outputs": [
        {
          "output_type": "stream",
          "name": "stdout",
          "text": [
            "Irrelevant data removed from the Product table.\n"
          ]
        }
      ]
    },
    {
      "cell_type": "code",
      "source": [
        "import sqlite3\n",
        "import random\n",
        "from datetime import datetime, timedelta\n",
        "\n",
        "conn = sqlite3.connect('/content/drive/My Drive/cosmeticETL.db')\n",
        "cursor = conn.cursor()\n",
        "\n",
        "\n",
        "def random_date(start, end):\n",
        "    \"\"\"Generate a random datetime between two datetime objects.\"\"\"\n",
        "    delta = end - start\n",
        "    int_delta = (delta.days * 24 * 60 * 60) + delta.seconds\n",
        "    random_second = random.randrange(int_delta)\n",
        "    return start + timedelta(seconds=random_second)\n",
        "\n",
        "start_date = datetime(2022, 1, 1)\n",
        "end_date = datetime.now()\n",
        "\n",
        "products_data = [\n",
        "    (100001, \"Moisturizing Lotion\", \"Skincare\", \"200ml\", \"No Color\", \"Herbal\",\n",
        "     \"Water, Glycerin, Aloe Vera, Hyaluronic Acid\", \"Pump Bottle\", 25.99,\n",
        "     random.randint(10, 100), random_date(start_date, end_date).strftime('%Y-%m-%d'), random_date(start_date, end_date).strftime('%Y-%m-%d'), random.randint(100001, 199999)),\n",
        "    (100002, \"Matte Lipstick\", \"Makeup\", \"3g\", \"Red\", \"Sweet Vanilla\",\n",
        "     \"Beeswax, Pigments, Oils, Vitamin E\", \"Tube\", 15.49, random.randint(10, 100), random_date(start_date, end_date).strftime('%Y-%m-%d'), random_date(start_date, end_date).strftime('%Y-%m-%d'), random.randint(100001, 199999)),\n",
        "    (100003, \"Eau de Parfum\", \"Perfume\", \"50ml\", \"Transparent\", \"Floral\",\n",
        "     \"Alcohol, Essential Oils, Fragrance Compounds\", \"Glass Bottle\", 89.99, random.randint(10, 100), random_date(start_date, end_date).strftime('%Y-%m-%d'), random_date(start_date, end_date).strftime('%Y-%m-%d'), random.randint(100001, 199999)),\n",
        "    (100004, \"Night Cream\", \"Skincare\", \"100ml\", \"No Color\", \"Mild Fragrance\",\n",
        "     \"Glycerin, Retinol, Vitamin C, Shea Butter\", \"Jar\", 35.49, random.randint(10, 100), random_date(start_date, end_date).strftime('%Y-%m-%d'), random_date(start_date, end_date).strftime('%Y-%m-%d'), random.randint(100001, 199999)),\n",
        "    (100005, \"Compact Powder\", \"Makeup\", \"50g\", \"Nude\", \"Unscented\",\n",
        "     \"Talc, Pigments, Silica, Mineral Oil\", \"Compact\", 12.99, random.randint(10, 100), random_date(start_date, end_date).strftime('%Y-%m-%d'), random_date(start_date, end_date).strftime('%Y-%m-%d'), random.randint(100001, 199999)),\n",
        "    (100006, \"Face Serum\", \"Skincare\", \"30ml\", \"No Color\", \"Unscented\",\n",
        "     \"Hyaluronic Acid, Vitamin C, Niacinamide, Aloe Vera\", \"Dropper\", 45.00, random.randint(10, 100), random_date(start_date, end_date).strftime('%Y-%m-%d'), random_date(start_date, end_date).strftime('%Y-%m-%d'), random.randint(100001, 199999)),\n",
        "    (100007, \"Body Spray\", \"Perfume\", \"100ml\", \"No Color\", \"Fruity\",\n",
        "     \"Alcohol, Fragrance Compounds\", \"Plastic Bottle\", 15.99, random.randint(10, 100), random_date(start_date, end_date).strftime('%Y-%m-%d'), random_date(start_date, end_date).strftime('%Y-%m-%d'), random.randint(100001, 199999)),\n",
        "    (100008, \"Facial Toner\", \"Skincare\", \"250ml\", \"Baby Pink\", \"Rose\",\n",
        "     \"Niacinamide, Rose Water, Lactic Acid, Gluconolactone\", \"Glass Bottle\", 39.99, random.randint(10, 100), random_date(start_date, end_date).strftime('%Y-%m-%d'), random_date(start_date, end_date).strftime('%Y-%m-%d'), random.randint(100001, 199999)),\n",
        "    (100009, \"Detox Shampoo\", \"Haircare\", \"110ml\", \"Clear\", \"Lychee\",\n",
        "     \"Hydrolyzed Keratin, Chelating Agents, Aqua, Sodium Chloride\", \"Plastic Bottle\", random.randint(10, 100), 32.00, random_date(start_date, end_date).strftime('%Y-%m-%d'), random_date(start_date, end_date).strftime('%Y-%m-%d'), random.randint(100001, 199999)),\n",
        "    (100010, \"Body Scrub\", \"Bodycare\", \"510g\", \"Brown\", \"Coffee\",\n",
        "     \"Coconut Oil, Aqua, Coffee Grounds, Sodium C14-16 Olefin Sulfonate\", \"Jar\", random.randint(10, 100), 24.49, random_date(start_date, end_date).strftime('%Y-%m-%d'), random_date(start_date, end_date).strftime('%Y-%m-%d'), random.randint(100001, 199999))\n",
        "]\n",
        "\n",
        "cursor.executemany(\"\"\"\n",
        "    INSERT INTO Product (Product_ID, Product_Name, Category, Size, Color, Smell, Ingredients, Packaging, Price, StockQuantity, ManufacturingDate, Expirationdate, Supplier_ID)\n",
        "    VALUES (?, ?, ?, ?, ?, ?, ?, ?, ?, ?, ?, ?, ?);\n",
        "\"\"\", products_data)\n",
        "\n",
        "conn.commit()\n",
        "conn.close()"
      ],
      "metadata": {
        "id": "fd7azxx-Gxop"
      },
      "execution_count": 12,
      "outputs": []
    },
    {
      "cell_type": "code",
      "source": [
        "import sqlite3\n",
        "\n",
        "# Establish connection\n",
        "conn = sqlite3.connect('/content/drive/My Drive/cosmeticETL.db')\n",
        "cursor = conn.cursor()\n",
        "\n",
        "# Now you can perform database operations:\n",
        "cursor.execute(\"SELECT Product_ID, Product_Name, Supplier_ID FROM Product;\")\n",
        "rows = cursor.fetchall()\n",
        "\n",
        "print(\"Data in 'Product' table with six-digit IDs:\")\n",
        "for row in rows:\n",
        "    print(row)\n",
        "\n",
        "# Close the connection when you're done.\n",
        "conn.close()"
      ],
      "metadata": {
        "colab": {
          "base_uri": "https://localhost:8080/"
        },
        "id": "PILWmybnKsu4",
        "outputId": "4271e842-b4b0-4d49-ea97-8eb22f85f0eb"
      },
      "execution_count": 14,
      "outputs": [
        {
          "output_type": "stream",
          "name": "stdout",
          "text": [
            "Data in 'Product' table with six-digit IDs:\n",
            "(100001, 'Moisturizing Lotion', 162922)\n",
            "(100002, 'Matte Lipstick', 145031)\n",
            "(100003, 'Eau de Parfum', 191444)\n",
            "(100004, 'Night Cream', 125820)\n",
            "(100005, 'Compact Powder', 152283)\n",
            "(100006, 'Face Serum', 117622)\n",
            "(100007, 'Body Spray', 111914)\n",
            "(100008, 'Facial Toner', 180672)\n",
            "(100009, 'Detox Shampoo', 176729)\n",
            "(100010, 'Body Scrub', 108580)\n"
          ]
        }
      ]
    },
    {
      "cell_type": "code",
      "source": [
        "import pandas as pd\n",
        "\n",
        "# Sample DataFrame\n",
        "data = {\n",
        "    'Order_ID': [101, 102, 103, 101, 102],\n",
        "    'Product_ID': [1, 2, 3, 1, 2],\n",
        "    'Order_Item_ID': [1, 2, 3, 4, 5]\n",
        "}\n",
        "\n",
        "df = pd.DataFrame(data)\n",
        "\n",
        "# Update Order_ID to include the year (e.g., 2024)\n",
        "df['Order_ID'] = df['Order_ID'].apply(lambda x: int(f\"2024{x}\"))\n",
        "\n",
        "# Update Product_ID with category-based prefix\n",
        "def update_product_id(product_id):\n",
        "    if product_id == 1:  # Example: Lipsticks\n",
        "        return f\"P1{str(product_id).zfill(5)}\"\n",
        "    elif product_id == 2:  # Example: Skincare\n",
        "        return f\"P2{str(product_id).zfill(5)}\"\n",
        "    elif product_id == 3:  # Example: Perfumes\n",
        "        return f\"P3{str(product_id).zfill(5)}\"\n",
        "    else:\n",
        "        return f\"P9{str(product_id).zfill(5)}\"  # Default for other categories\n",
        "\n",
        "df['Product_ID'] = df['Product_ID'].apply(update_product_id)\n",
        "\n",
        "# Correct Order_Item_ID to six digits\n",
        "df['Order_Item_ID'] = df.index + 100001  # Start from 100001 and increment\n",
        "\n",
        "# Display updated DataFrame\n",
        "print(df)\n"
      ],
      "metadata": {
        "colab": {
          "base_uri": "https://localhost:8080/"
        },
        "id": "SyQhvUU6LZKB",
        "outputId": "f62dab6c-e81a-49b2-d11e-801fa14f6fe5"
      },
      "execution_count": 15,
      "outputs": [
        {
          "output_type": "stream",
          "name": "stdout",
          "text": [
            "   Order_ID Product_ID  Order_Item_ID\n",
            "0   2024101    P100001         100001\n",
            "1   2024102    P200002         100002\n",
            "2   2024103    P300003         100003\n",
            "3   2024101    P100001         100004\n",
            "4   2024102    P200002         100005\n"
          ]
        }
      ]
    },
    {
      "cell_type": "code",
      "source": [
        "import sqlite3\n",
        "\n",
        "# Establish connection\n",
        "conn = sqlite3.connect('/content/drive/My Drive/cosmeticETL.db')\n",
        "cursor = conn.cursor()\n",
        "\n",
        "# Now you can perform database operations:\n",
        "cursor.execute(\"SELECT Product_ID, Product_Name, Supplier_ID FROM Product;\")\n",
        "rows = cursor.fetchall()\n",
        "\n",
        "print(\"Data in 'Product' table with six-digit IDs:\")\n",
        "for row in rows:\n",
        "    print(row)\n",
        "\n",
        "# Close the connection when you're done.\n",
        "conn.close()"
      ],
      "metadata": {
        "colab": {
          "base_uri": "https://localhost:8080/"
        },
        "id": "nWD3TeHtLloh",
        "outputId": "3d7f3429-944c-4dae-b8ac-ea18b6c51979"
      },
      "execution_count": 16,
      "outputs": [
        {
          "output_type": "stream",
          "name": "stdout",
          "text": [
            "Data in 'Product' table with six-digit IDs:\n",
            "(100001, 'Moisturizing Lotion', 162922)\n",
            "(100002, 'Matte Lipstick', 145031)\n",
            "(100003, 'Eau de Parfum', 191444)\n",
            "(100004, 'Night Cream', 125820)\n",
            "(100005, 'Compact Powder', 152283)\n",
            "(100006, 'Face Serum', 117622)\n",
            "(100007, 'Body Spray', 111914)\n",
            "(100008, 'Facial Toner', 180672)\n",
            "(100009, 'Detox Shampoo', 176729)\n",
            "(100010, 'Body Scrub', 108580)\n"
          ]
        }
      ]
    },
    {
      "cell_type": "code",
      "source": [
        "import sqlite3\n",
        "\n",
        "conn = sqlite3.connect('/content/drive/My Drive/cosmeticETL.db')\n",
        "cursor = conn.cursor()\n",
        "\n",
        "# Delete all data in the Product table\n",
        "cursor.execute(\"DELETE FROM Product;\")\n",
        "conn.commit()\n",
        "\n",
        "print(\"Irrelevant data removed from the Product table.\")\n",
        "conn.close()"
      ],
      "metadata": {
        "colab": {
          "base_uri": "https://localhost:8080/"
        },
        "id": "TiBQcVSEOJA2",
        "outputId": "5c3139b5-cf28-44ee-e8f9-63128338c15b"
      },
      "execution_count": 20,
      "outputs": [
        {
          "output_type": "stream",
          "name": "stdout",
          "text": [
            "Irrelevant data removed from the Product table.\n"
          ]
        }
      ]
    },
    {
      "cell_type": "code",
      "source": [
        "import pandas as pd\n",
        "\n",
        "# Sample DataFrame\n",
        "data = {\n",
        "    'Order_ID': [101, 102, 103, 101, 102],\n",
        "    'Product_ID': [1, 2, 3, 1, 2],\n",
        "    'Order_Item_ID': [1, 2, 3, 4, 5]\n",
        "}\n",
        "\n",
        "df = pd.DataFrame(data)\n",
        "\n",
        "# Update Order_ID to include the year (e.g., 2024)\n",
        "df['Order_ID'] = df['Order_ID'].apply(lambda x: int(f\"2024{x}\"))\n",
        "\n",
        "# Update Product_ID with category-based prefix\n",
        "def update_product_id(product_id):\n",
        "    if product_id == 1:  # Example: Lipsticks\n",
        "        return f\"P1{str(product_id).zfill(5)}\"\n",
        "    elif product_id == 2:  # Example: Skincare\n",
        "        return f\"P2{str(product_id).zfill(5)}\"\n",
        "    elif product_id == 3:  # Example: Perfumes\n",
        "        return f\"P3{str(product_id).zfill(5)}\"\n",
        "    else:\n",
        "        return f\"P9{str(product_id).zfill(5)}\"  # Default for other categories\n",
        "\n",
        "df['Product_ID'] = df['Product_ID'].apply(update_product_id)\n",
        "\n",
        "# Correct Order_Item_ID to six digits\n",
        "df['Order_Item_ID'] = df.index + 100001  # Start from 100001 and increment\n",
        "\n",
        "# Display updated DataFrame\n",
        "print(df)\n"
      ],
      "metadata": {
        "colab": {
          "base_uri": "https://localhost:8080/"
        },
        "id": "lfT5PyZDOPZO",
        "outputId": "5c18a9dd-e652-487a-ea1f-4b96f8379c68"
      },
      "execution_count": 21,
      "outputs": [
        {
          "output_type": "stream",
          "name": "stdout",
          "text": [
            "   Order_ID Product_ID  Order_Item_ID\n",
            "0   2024101    P100001         100001\n",
            "1   2024102    P200002         100002\n",
            "2   2024103    P300003         100003\n",
            "3   2024101    P100001         100004\n",
            "4   2024102    P200002         100005\n"
          ]
        }
      ]
    },
    {
      "cell_type": "code",
      "source": [
        "import sqlite3\n",
        "\n",
        "conn = sqlite3.connect('/content/drive/My Drive/cosmeticETL.db')\n",
        "cursor = conn.cursor()\n",
        "\n",
        "try:\n",
        "    # Change the data type of Product_ID to VARCHAR\n",
        "    cursor.execute(\"ALTER TABLE Product ALTER COLUMN Product_ID TYPE VARCHAR(255);\")\n",
        "    conn.commit()\n",
        "    print(\"Product_ID data type changed to VARCHAR successfully.\")\n",
        "\n",
        "except sqlite3.OperationalError as e:\n",
        "    print(f\"Error: {e}\")\n",
        "    # If the column data type is already VARCHAR, you might get an error.\n",
        "    # Handle the error appropriately (e.g., ignore it or log it).\n",
        "\n",
        "finally:\n",
        "    conn.close()"
      ],
      "metadata": {
        "colab": {
          "base_uri": "https://localhost:8080/"
        },
        "id": "UOlfg87qP1Gd",
        "outputId": "911bff76-92af-4fb4-dce9-9f111a8c7afa"
      },
      "execution_count": 25,
      "outputs": [
        {
          "output_type": "stream",
          "name": "stdout",
          "text": [
            "Error: near \"ALTER\": syntax error\n"
          ]
        }
      ]
    },
    {
      "cell_type": "code",
      "source": [
        "import pandas as pd\n",
        "\n",
        "# Sample DataFrame\n",
        "data = {\n",
        "    'Order_ID': [101, 102, 103, 101, 102],\n",
        "    'Product_ID': [1, 2, 3, 1, 2],\n",
        "    'Order_Item_ID': [1, 2, 3, 4, 5]\n",
        "}\n",
        "\n",
        "df = pd.DataFrame(data)\n",
        "\n",
        "# Update Order_ID to include the year (e.g., 2024)\n",
        "df['Order_ID'] = df['Order_ID'].apply(lambda x: int(f\"2024{x}\"))\n",
        "\n",
        "# Update Product_ID with category-based prefix\n",
        "def update_product_id(product_id):\n",
        "    if product_id == 1:  # Example: Lipsticks\n",
        "        return f\"P1{str(product_id).zfill(5)}\"\n",
        "    elif product_id == 2:  # Example: Skincare\n",
        "        return f\"P2{str(product_id).zfill(5)}\"\n",
        "    elif product_id == 3:  # Example: Perfumes\n",
        "        return f\"P3{str(product_id).zfill(5)}\"\n",
        "    else:\n",
        "        return f\"P9{str(product_id).zfill(5)}\"  # Default for other categories\n",
        "\n",
        "df['Product_ID'] = df['Product_ID'].apply(update_product_id)\n",
        "\n",
        "# Correct Order_Item_ID to six digits\n",
        "df['Order_Item_ID'] = df.index + 100001  # Start from 100001 and increment\n",
        "\n",
        "# Display updated DataFrame\n",
        "print(df)\n"
      ],
      "metadata": {
        "colab": {
          "base_uri": "https://localhost:8080/"
        },
        "id": "Tpi_pPT8Oh8L",
        "outputId": "0ce9ddfe-2e18-4d7f-f039-e20aba26279c"
      },
      "execution_count": 30,
      "outputs": [
        {
          "output_type": "stream",
          "name": "stdout",
          "text": [
            "   Order_ID Product_ID  Order_Item_ID\n",
            "0   2024101    P100001         100001\n",
            "1   2024102    P200002         100002\n",
            "2   2024103    P300003         100003\n",
            "3   2024101    P100001         100004\n",
            "4   2024102    P200002         100005\n"
          ]
        }
      ]
    },
    {
      "cell_type": "code",
      "source": [
        "cursor.execute(\"SELECT * FROM Product;\")\n",
        "rows = cursor.fetchall()\n",
        "\n",
        "print(\"Data in 'Product' table:\")\n",
        "for row in rows:\n",
        "    print(row)"
      ],
      "metadata": {
        "colab": {
          "base_uri": "https://localhost:8080/"
        },
        "id": "JF0Db8k_RkxL",
        "outputId": "0444e1dd-d181-4269-e0d5-85854f796761"
      },
      "execution_count": 31,
      "outputs": [
        {
          "output_type": "stream",
          "name": "stdout",
          "text": [
            "Data in 'Product' table:\n"
          ]
        }
      ]
    },
    {
      "cell_type": "code",
      "source": [
        "import sqlite3\n",
        "\n",
        "conn = sqlite3.connect('/content/drive/My Drive/cosmeticETL.db')\n",
        "cursor = conn.cursor()\n",
        "\n",
        "try:\n",
        "    # 1. Create a temporary table\n",
        "    cursor.execute(\"\"\"\n",
        "        CREATE TABLE Temp_Product (\n",
        "            Product_ID TEXT PRIMARY KEY,\n",
        "            Product_Name TEXT,\n",
        "            Category TEXT,\n",
        "            Size TEXT,\n",
        "            Color TEXT,\n",
        "            Smell TEXT,\n",
        "            Ingredients TEXT,\n",
        "            Packaging TEXT,\n",
        "            Price REAL,\n",
        "            StockQuantity INTEGER,\n",
        "            ManufacturingDate DATE,\n",
        "            Expirationdate DATE,\n",
        "            Supplier_ID INTEGER\n",
        "        );\n",
        "    \"\"\")\n",
        "\n",
        "    # 2. Copy data and apply formatting\n",
        "    cursor.execute(\"\"\"\n",
        "        INSERT INTO Temp_Product\n",
        "        SELECT 'P' || CAST(Product_ID AS TEXT), Product_Name, Category, Size, Color, Smell, Ingredients, Packaging, Price, StockQuantity, ManufacturingDate, Expirationdate, Supplier_ID\n",
        "        FROM Product;\n",
        "    \"\"\")\n",
        "\n",
        "    # 3. Drop the original table\n",
        "    cursor.execute(\"DROP TABLE Product;\")\n",
        "\n",
        "    # 4. Rename the temporary table\n",
        "    cursor.execute(\"ALTER TABLE Temp_Product RENAME TO Product;\")\n",
        "\n",
        "    conn.commit()\n",
        "    print(\"Product_ID data type changed to TEXT and updated successfully.\")\n",
        "\n",
        "except sqlite3.OperationalError as e:\n",
        "    print(f\"Error: {e}\")\n",
        "    # Handle the error appropriately (e.g., ignore it or log it).\n",
        "\n",
        "finally:\n",
        "    conn.close()"
      ],
      "metadata": {
        "colab": {
          "base_uri": "https://localhost:8080/"
        },
        "id": "1dnOJkOITIhM",
        "outputId": "db95d01b-bfed-43d0-9a41-5b828c924458"
      },
      "execution_count": 44,
      "outputs": [
        {
          "output_type": "stream",
          "name": "stdout",
          "text": [
            "Product_ID data type changed to TEXT and updated successfully.\n"
          ]
        }
      ]
    },
    {
      "cell_type": "code",
      "source": [
        "conn = sqlite3.connect('/content/drive/My Drive/cosmeticETL.db')\n",
        "cursor = conn.cursor()\n",
        "\n",
        "\n",
        "cursor.execute(\"SELECT * FROM Product;\")\n",
        "rows = cursor.fetchall()\n",
        "\n",
        "print(\"Data in 'Product' table:\")\n",
        "for row in rows:\n",
        "    print(row)"
      ],
      "metadata": {
        "colab": {
          "base_uri": "https://localhost:8080/"
        },
        "id": "P4TziE1nRzqF",
        "outputId": "890e4895-c8ea-4c40-f2ca-22a873ca7c44"
      },
      "execution_count": 45,
      "outputs": [
        {
          "output_type": "stream",
          "name": "stdout",
          "text": [
            "Data in 'Product' table:\n",
            "('P100001', 'Moisturizing Lotion', 'Skincare', '200ml', 'No Color', 'Herbal', 'Water, Glycerin, Aloe Vera, Hyaluronic Acid', 'Pump Bottle', 25.99, 14, '2022-09-12', '2023-09-17', 148803)\n",
            "('P100002', 'Matte Lipstick', 'Makeup', '3g', 'Red', 'Sweet Vanilla', 'Beeswax, Pigments, Oils, Vitamin E', 'Tube', 15.49, 31, '2024-02-10', '2023-03-13', 181205)\n",
            "('P100003', 'Eau de Parfum', 'Perfume', '50ml', 'Transparent', 'Floral', 'Alcohol, Essential Oils, Fragrance Compounds', 'Glass Bottle', 89.99, 17, '2022-09-22', '2023-09-19', 141785)\n",
            "('P100004', 'Night Cream', 'Skincare', '100ml', 'No Color', 'Mild Fragrance', 'Glycerin, Retinol, Vitamin C, Shea Butter', 'Jar', 35.49, 49, '2024-06-11', '2023-11-03', 181987)\n",
            "('P100005', 'Compact Powder', 'Makeup', '50g', 'Nude', 'Unscented', 'Talc, Pigments, Silica, Mineral Oil', 'Compact', 12.99, 48, '2023-04-08', '2024-07-05', 181346)\n",
            "('P100006', 'Face Serum', 'Skincare', '30ml', 'No Color', 'Unscented', 'Hyaluronic Acid, Vitamin C, Niacinamide, Aloe Vera', 'Dropper', 45.0, 28, '2022-05-14', '2022-09-11', 185502)\n",
            "('P100007', 'Body Spray', 'Perfume', '100ml', 'No Color', 'Fruity', 'Alcohol, Fragrance Compounds', 'Plastic Bottle', 15.99, 73, '2023-05-12', '2022-02-11', 189318)\n",
            "('P100008', 'Facial Toner', 'Skincare', '250ml', 'Baby Pink', 'Rose', 'Niacinamide, Rose Water, Lactic Acid, Gluconolactone', 'Glass Bottle', 39.99, 33, '2022-08-08', '2022-08-22', 160295)\n",
            "('P100009', 'Detox Shampoo', 'Haircare', '110ml', 'Clear', 'Lychee', 'Hydrolyzed Keratin, Chelating Agents, Aqua, Sodium Chloride', 'Plastic Bottle', 11.0, 32, '2022-12-26', '2024-01-09', 194084)\n",
            "('P100010', 'Body Scrub', 'Bodycare', '510g', 'Brown', 'Coffee', 'Coconut Oil, Aqua, Coffee Grounds, Sodium C14-16 Olefin Sulfonate', 'Jar', 36.0, 24.49, '2022-08-24', '2024-04-10', 128344)\n"
          ]
        }
      ]
    },
    {
      "cell_type": "code",
      "source": [
        "import sqlite3\n",
        "from datetime import datetime\n",
        "\n",
        "# Drop the existing 'Order' table if it exists\n",
        "cursor.execute(\"DROP TABLE IF EXISTS 'Order';\")\n",
        "conn.commit()\n",
        "\n",
        "# Now, recreate the table with the correct schema\n",
        "cursor.execute(\"\"\"\n",
        "CREATE TABLE IF NOT EXISTS 'Order' (\n",
        "    Order_ID INTEGER PRIMARY KEY,\n",
        "    Order_Date DATETIME NOT NULL,\n",
        "    Customer_ID INTEGER,\n",
        "    Customer_Name VARCHAR(50) NOT NULL,\n",
        "    TotalAmount DECIMAL(10, 2) NOT NULL,\n",
        "    ShippingDate DATETIME NOT NULL,\n",
        "    Order_Status VARCHAR(20)\n",
        ");\n",
        "\"\"\")\n",
        "conn.commit()\n",
        "\n",
        "\n",
        "orders = [\n",
        "    (100001, \"2024-10-29\", 1000, \"Alice Johnson\", 120.99, \"2024-11-01\", \"Passed\"),\n",
        "    (100002, \"2024-10-31\", 1001, \"Bob Smith\", 89.99, \"2024-11-02\", \"Passed\"),\n",
        "    (100003, \"2024-11-01\", 1002, \"Charlie Brown\", 45.50, \"2024-11-03\", \"Pending\"),\n",
        "    (100004, \"2024-10-31\", 1003, \"Diana Prince\", 75.75, \"2024-11-03\", \"Passed\"),\n",
        "    (100005, \"2024-11-02\", 1004, \"Eve Anderson\", 110.25, \"2024-11-04\", \"Passed\"),\n",
        "    (100006, \"2024-11-03\", 1005, \"Frank Miller\", 95.50, \"2024-11-05\", \"Pending\"),\n",
        "    (100007, \"2024-11-04\", 1006, \"Grace Wilson\", 60.00, \"2024-11-05\", \"Pending\"),\n",
        "]\n",
        "\n",
        "for order in orders:\n",
        "    # The column name in the INSERT statement should match the column name in the CREATE TABLE statement.\n",
        "    cursor.execute(\"\"\"\n",
        "        INSERT INTO 'Order' (Order_ID, Order_Date, Customer_ID, Customer_Name, TotalAmount, ShippingDate, Order_Status)\n",
        "        VALUES (?, ?, ?, ?, ?, ?, ?);\n",
        "    \"\"\", order)\n",
        "\n",
        "conn.commit()\n",
        "print(\"Order data inserted successfully.\")"
      ],
      "metadata": {
        "colab": {
          "base_uri": "https://localhost:8080/"
        },
        "id": "fYLXXVslUhVM",
        "outputId": "def08fec-1cdd-4860-b93b-65375f982c2b"
      },
      "execution_count": 53,
      "outputs": [
        {
          "output_type": "stream",
          "name": "stdout",
          "text": [
            "Order data inserted successfully.\n"
          ]
        }
      ]
    },
    {
      "cell_type": "code",
      "source": [
        "# Drop the existing 'OrderItem' table if it exists\n",
        "cursor.execute(\"DROP TABLE IF EXISTS OrderItem;\")\n",
        "conn.commit()\n",
        "\n",
        "# Now, recreate the table with the correct schema\n",
        "cursor.execute(\"\"\"\n",
        "CREATE TABLE IF NOT EXISTS OrderItem (\n",
        "    Order_Item_ID INTEGER PRIMARY KEY,\n",
        "    Order_ID INTEGER NOT NULL,\n",
        "    Product_ID INTEGER NOT NULL,\n",
        "    Quantity INTEGER NOT NULL,  -- Make sure this column is included\n",
        "    UnitPrice DECIMAL(10, 2) NOT NULL,\n",
        "    FOREIGN KEY (Order_ID) REFERENCES 'Order' (Order_ID),\n",
        "    FOREIGN KEY (Product_ID) REFERENCES Product (Product_ID)\n",
        ");\n",
        "\"\"\")\n",
        "conn.commit()\n",
        "\n",
        "\n",
        "orderitems = [\n",
        "    (100001, 2024101, \"P100001\", 2, 15.98),  # Moisturizing Lotion\n",
        "    (100002, 2024102, \"P100002\", 1, 5.49),  # Matte Lipstick\n",
        "    (100003, 2024103, \"P100003\", 1, 49.99),  # Eau de Parfum\n",
        "    (100004, 2024104, \"P100004\", 3, 8.97),  # Compact Powder\n",
        "    (100005, 2024105, \"P100005\", 1, 25.99),  # Moisturizing Lotion\n",
        "    (100006, 2024106, \"P100006\", 2, 49.98)   # Night Cream\n",
        "]\n",
        "\n",
        "cursor.execute(\"PRAGMA table_info(OrderItem);\")\n",
        "print(cursor.fetchall())\n",
        "\n",
        "cursor.executemany(\"\"\"\n",
        "INSERT INTO OrderItem (Order_Item_ID, Order_ID, Product_ID, Quantity, UnitPrice)\n",
        "VALUES (?, ?, ?, ?, ?);\n",
        "\"\"\", orderitems)\n",
        "conn.commit()\n",
        "print(\"Order_Item data inserted successfully.\")"
      ],
      "metadata": {
        "colab": {
          "base_uri": "https://localhost:8080/"
        },
        "id": "DXOa2qzFUI1m",
        "outputId": "5cc97864-1b6b-4136-a494-6bb4ece49238"
      },
      "execution_count": 55,
      "outputs": [
        {
          "output_type": "stream",
          "name": "stdout",
          "text": [
            "[(0, 'Order_Item_ID', 'INTEGER', 0, None, 1), (1, 'Order_ID', 'INTEGER', 1, None, 0), (2, 'Product_ID', 'INTEGER', 1, None, 0), (3, 'Quantity', 'INTEGER', 1, None, 0), (4, 'UnitPrice', 'DECIMAL(10, 2)', 1, None, 0)]\n",
            "Order_Item data inserted successfully.\n"
          ]
        }
      ]
    },
    {
      "cell_type": "code",
      "source": [
        "# Drop the existing 'SalesReport' table if it exists\n",
        "cursor.execute(\"DROP TABLE IF EXISTS SalesReport;\")\n",
        "conn.commit()\n",
        "\n",
        "# Recreate the 'SalesReport' table with correct data types\n",
        "# Change Product_ID to VARCHAR to match the data being inserted\n",
        "cursor.execute(\"\"\"\n",
        "CREATE TABLE IF NOT EXISTS SalesReport (\n",
        "    Report_ID VARCHAR(255) PRIMARY KEY,  -- Changed to VARCHAR\n",
        "    Product_ID VARCHAR(255) NOT NULL,    -- Changed to VARCHAR\n",
        "    QuantitySold INTEGER NOT NULL,\n",
        "    TotalRevenue DECIMAL(15, 2),\n",
        "    ReportDate DATE,\n",
        "    FOREIGN KEY (Product_ID) REFERENCES Product(Product_ID)\n",
        ");\n",
        "\"\"\")\n",
        "conn.commit()\n",
        "\n",
        "salesreports_data = [\n",
        "    (\"P100001\", 20, 500.00, \"2024-11-01\"),\n",
        "    (\"P100002\", 15, 375.00, \"2024-11-02\"),\n",
        "    (\"P100003\", 30, 900.00, \"2024-11-03\"),\n",
        "    (\"P100004\", 10, 250.00, \"2024-11-04\"),\n",
        "    (\"P100005\", 25, 625.00, \"2024-11-05\"),\n",
        "]\n",
        "\n",
        "# Add unique Report_ID starting from 001\n",
        "salesreports = [\n",
        "    (f\"REP{101 + i}\", *data) for i, data in enumerate(salesreports_data)\n",
        "]\n",
        "\n",
        "# Insert data into the Sales_Report table\n",
        "cursor.executemany(\"\"\"\n",
        "    INSERT INTO SalesReport (Report_ID, Product_ID, QuantitySold, TotalRevenue, ReportDate)\n",
        "    VALUES (?, ?, ?, ?, ?);\n",
        "\"\"\", salesreports)\n",
        "\n",
        "# Commit the changes to save the data\n",
        "conn.commit()\n",
        "print(\"SalesReport data inserted successfully.\")"
      ],
      "metadata": {
        "colab": {
          "base_uri": "https://localhost:8080/"
        },
        "id": "PBUxxXlfVV7i",
        "outputId": "179f61e4-580b-4b6e-9e01-cec3281aadce"
      },
      "execution_count": 57,
      "outputs": [
        {
          "output_type": "stream",
          "name": "stdout",
          "text": [
            "SalesReport data inserted successfully.\n"
          ]
        }
      ]
    },
    {
      "cell_type": "code",
      "source": [
        "cursor.execute(\"SELECT COUNT(*) FROM 'Order';\")\n",
        "row_count = cursor.fetchone()[0]\n",
        "print(f\"Number of rows in Order table: {row_count}\")\n",
        "\n",
        "cursor.execute(\"SELECT * FROM 'Order' ;\")\n",
        "orders = cursor.fetchall()\n",
        "print(\"Orders:\")\n",
        "for order in orders:\n",
        "    print(order)"
      ],
      "metadata": {
        "colab": {
          "base_uri": "https://localhost:8080/"
        },
        "id": "B-vNS7WGVynb",
        "outputId": "c0159e21-78b3-4b94-e850-ea71624ad0bf"
      },
      "execution_count": 58,
      "outputs": [
        {
          "output_type": "stream",
          "name": "stdout",
          "text": [
            "Number of rows in Order table: 7\n",
            "Orders:\n",
            "(100001, '2024-10-29', 1000, 'Alice Johnson', 120.99, '2024-11-01', 'Passed')\n",
            "(100002, '2024-10-31', 1001, 'Bob Smith', 89.99, '2024-11-02', 'Passed')\n",
            "(100003, '2024-11-01', 1002, 'Charlie Brown', 45.5, '2024-11-03', 'Pending')\n",
            "(100004, '2024-10-31', 1003, 'Diana Prince', 75.75, '2024-11-03', 'Passed')\n",
            "(100005, '2024-11-02', 1004, 'Eve Anderson', 110.25, '2024-11-04', 'Passed')\n",
            "(100006, '2024-11-03', 1005, 'Frank Miller', 95.5, '2024-11-05', 'Pending')\n",
            "(100007, '2024-11-04', 1006, 'Grace Wilson', 60, '2024-11-05', 'Pending')\n"
          ]
        }
      ]
    },
    {
      "cell_type": "code",
      "source": [
        "cursor.execute(\"SELECT COUNT(*) FROM 'Order';\")\n",
        "row_count = cursor.fetchone()[0]\n",
        "print(f\"Number of rows in Order table: {row_count}\")\n",
        "\n",
        "cursor.execute(\"SELECT * FROM 'Order' ;\")\n",
        "orders = cursor.fetchall()\n",
        "print(\"Orders:\")\n",
        "for order in orders:\n",
        "    print(order)"
      ],
      "metadata": {
        "colab": {
          "base_uri": "https://localhost:8080/"
        },
        "id": "7bqYEpebV7Vi",
        "outputId": "dcb3ee92-afc9-4a49-c970-29b7196b9350"
      },
      "execution_count": 59,
      "outputs": [
        {
          "output_type": "stream",
          "name": "stdout",
          "text": [
            "Number of rows in Order table: 7\n",
            "Orders:\n",
            "(100001, '2024-10-29', 1000, 'Alice Johnson', 120.99, '2024-11-01', 'Passed')\n",
            "(100002, '2024-10-31', 1001, 'Bob Smith', 89.99, '2024-11-02', 'Passed')\n",
            "(100003, '2024-11-01', 1002, 'Charlie Brown', 45.5, '2024-11-03', 'Pending')\n",
            "(100004, '2024-10-31', 1003, 'Diana Prince', 75.75, '2024-11-03', 'Passed')\n",
            "(100005, '2024-11-02', 1004, 'Eve Anderson', 110.25, '2024-11-04', 'Passed')\n",
            "(100006, '2024-11-03', 1005, 'Frank Miller', 95.5, '2024-11-05', 'Pending')\n",
            "(100007, '2024-11-04', 1006, 'Grace Wilson', 60, '2024-11-05', 'Pending')\n"
          ]
        }
      ]
    },
    {
      "cell_type": "code",
      "source": [
        "cursor.execute(\"SELECT * FROM Product;\")\n",
        "rows = cursor.fetchall()\n",
        "\n",
        "print(\"Data in 'Product' table:\")\n",
        "for row in rows:\n",
        "    print(row)"
      ],
      "metadata": {
        "colab": {
          "base_uri": "https://localhost:8080/"
        },
        "id": "KD2iu0v7V9PR",
        "outputId": "ddf5be66-319b-4873-dd9f-0b05d931dc37"
      },
      "execution_count": 60,
      "outputs": [
        {
          "output_type": "stream",
          "name": "stdout",
          "text": [
            "Data in 'Product' table:\n",
            "('P100001', 'Moisturizing Lotion', 'Skincare', '200ml', 'No Color', 'Herbal', 'Water, Glycerin, Aloe Vera, Hyaluronic Acid', 'Pump Bottle', 25.99, 14, '2022-09-12', '2023-09-17', 148803)\n",
            "('P100002', 'Matte Lipstick', 'Makeup', '3g', 'Red', 'Sweet Vanilla', 'Beeswax, Pigments, Oils, Vitamin E', 'Tube', 15.49, 31, '2024-02-10', '2023-03-13', 181205)\n",
            "('P100003', 'Eau de Parfum', 'Perfume', '50ml', 'Transparent', 'Floral', 'Alcohol, Essential Oils, Fragrance Compounds', 'Glass Bottle', 89.99, 17, '2022-09-22', '2023-09-19', 141785)\n",
            "('P100004', 'Night Cream', 'Skincare', '100ml', 'No Color', 'Mild Fragrance', 'Glycerin, Retinol, Vitamin C, Shea Butter', 'Jar', 35.49, 49, '2024-06-11', '2023-11-03', 181987)\n",
            "('P100005', 'Compact Powder', 'Makeup', '50g', 'Nude', 'Unscented', 'Talc, Pigments, Silica, Mineral Oil', 'Compact', 12.99, 48, '2023-04-08', '2024-07-05', 181346)\n",
            "('P100006', 'Face Serum', 'Skincare', '30ml', 'No Color', 'Unscented', 'Hyaluronic Acid, Vitamin C, Niacinamide, Aloe Vera', 'Dropper', 45.0, 28, '2022-05-14', '2022-09-11', 185502)\n",
            "('P100007', 'Body Spray', 'Perfume', '100ml', 'No Color', 'Fruity', 'Alcohol, Fragrance Compounds', 'Plastic Bottle', 15.99, 73, '2023-05-12', '2022-02-11', 189318)\n",
            "('P100008', 'Facial Toner', 'Skincare', '250ml', 'Baby Pink', 'Rose', 'Niacinamide, Rose Water, Lactic Acid, Gluconolactone', 'Glass Bottle', 39.99, 33, '2022-08-08', '2022-08-22', 160295)\n",
            "('P100009', 'Detox Shampoo', 'Haircare', '110ml', 'Clear', 'Lychee', 'Hydrolyzed Keratin, Chelating Agents, Aqua, Sodium Chloride', 'Plastic Bottle', 11.0, 32, '2022-12-26', '2024-01-09', 194084)\n",
            "('P100010', 'Body Scrub', 'Bodycare', '510g', 'Brown', 'Coffee', 'Coconut Oil, Aqua, Coffee Grounds, Sodium C14-16 Olefin Sulfonate', 'Jar', 36.0, 24.49, '2022-08-24', '2024-04-10', 128344)\n"
          ]
        }
      ]
    },
    {
      "cell_type": "code",
      "source": [
        "# Reconnect to database\n",
        "conn = sqlite3.connect('/content/drive/My Drive/cosmeticETL.db')\n",
        "\n",
        "# Extract Product data\n",
        "product_data = pd.read_sql_query(\"SELECT * FROM Product\", conn)\n",
        "\n",
        "# Preview the data\n",
        "print(product_data.head())\n",
        "\n",
        "# Close connection\n",
        "conn.close()"
      ],
      "metadata": {
        "colab": {
          "base_uri": "https://localhost:8080/"
        },
        "id": "jBm2K2XkWDC8",
        "outputId": "ec42ceb1-f3bf-4b07-a4cd-c7d62b320667"
      },
      "execution_count": 61,
      "outputs": [
        {
          "output_type": "stream",
          "name": "stdout",
          "text": [
            "  Product_ID         Product_Name  Category   Size        Color  \\\n",
            "0    P100001  Moisturizing Lotion  Skincare  200ml     No Color   \n",
            "1    P100002       Matte Lipstick    Makeup     3g          Red   \n",
            "2    P100003        Eau de Parfum   Perfume   50ml  Transparent   \n",
            "3    P100004          Night Cream  Skincare  100ml     No Color   \n",
            "4    P100005       Compact Powder    Makeup    50g         Nude   \n",
            "\n",
            "            Smell                                   Ingredients     Packaging  \\\n",
            "0          Herbal   Water, Glycerin, Aloe Vera, Hyaluronic Acid   Pump Bottle   \n",
            "1   Sweet Vanilla            Beeswax, Pigments, Oils, Vitamin E          Tube   \n",
            "2          Floral  Alcohol, Essential Oils, Fragrance Compounds  Glass Bottle   \n",
            "3  Mild Fragrance     Glycerin, Retinol, Vitamin C, Shea Butter           Jar   \n",
            "4       Unscented           Talc, Pigments, Silica, Mineral Oil       Compact   \n",
            "\n",
            "   Price  StockQuantity ManufacturingDate Expirationdate  Supplier_ID  \n",
            "0  25.99           14.0        2022-09-12     2023-09-17       148803  \n",
            "1  15.49           31.0        2024-02-10     2023-03-13       181205  \n",
            "2  89.99           17.0        2022-09-22     2023-09-19       141785  \n",
            "3  35.49           49.0        2024-06-11     2023-11-03       181987  \n",
            "4  12.99           48.0        2023-04-08     2024-07-05       181346  \n"
          ]
        }
      ]
    },
    {
      "cell_type": "code",
      "source": [
        "import pandas as pd\n",
        "\n",
        "\n",
        "def transform_data(product_data):\n",
        "    \"\"\"\n",
        "    Transforms the product data by removing duplicates, handling missing values,\n",
        "    and adding a calculated column (TotalStockValue).\n",
        "\n",
        "    Args:\n",
        "        product_data: The input pandas DataFrame.\n",
        "\n",
        "    Returns:\n",
        "        The transformed pandas DataFrame.\n",
        "    \"\"\"\n",
        "\n",
        "    # Data cleaning and manipulation\n",
        "    product_data = product_data.drop_duplicates().copy()  # Remove duplicates and create a copy\n",
        "    product_data['StockQuantity'] = product_data['StockQuantity'].fillna(0)  # Handle missing values in StockQuantity\n",
        "\n",
        "    # Add a calculated column (TotalStockValue)\n",
        "    product_data['TotalStockValue'] = product_data['Price'] * product_data['StockQuantity']\n",
        "\n",
        "    return product_data  # Return the transformed DataFrame\n",
        "\n",
        "# Example usage:\n",
        "transformed_data = transform_data(product_data)  # Call the transform function\n",
        "\n",
        "# Display the first few rows of the transformed data\n",
        "print(transformed_data.head())"
      ],
      "metadata": {
        "colab": {
          "base_uri": "https://localhost:8080/"
        },
        "id": "1KORBAN1WoYJ",
        "outputId": "a531c8dc-7a0c-4237-d46f-b769dca01a40"
      },
      "execution_count": 67,
      "outputs": [
        {
          "output_type": "stream",
          "name": "stdout",
          "text": [
            "  Product_ID         Product_Name  Category   Size        Color  \\\n",
            "0    P100001  Moisturizing Lotion  Skincare  200ml     No Color   \n",
            "1    P100002       Matte Lipstick    Makeup     3g          Red   \n",
            "2    P100003        Eau de Parfum   Perfume   50ml  Transparent   \n",
            "3    P100004          Night Cream  Skincare  100ml     No Color   \n",
            "4    P100005       Compact Powder    Makeup    50g         Nude   \n",
            "\n",
            "            Smell                                   Ingredients     Packaging  \\\n",
            "0          Herbal   Water, Glycerin, Aloe Vera, Hyaluronic Acid   Pump Bottle   \n",
            "1   Sweet Vanilla            Beeswax, Pigments, Oils, Vitamin E          Tube   \n",
            "2          Floral  Alcohol, Essential Oils, Fragrance Compounds  Glass Bottle   \n",
            "3  Mild Fragrance     Glycerin, Retinol, Vitamin C, Shea Butter           Jar   \n",
            "4       Unscented           Talc, Pigments, Silica, Mineral Oil       Compact   \n",
            "\n",
            "   Price  StockQuantity ManufacturingDate Expirationdate  Supplier_ID  \\\n",
            "0  25.99           14.0        2022-09-12     2023-09-17       148803   \n",
            "1  15.49           31.0        2024-02-10     2023-03-13       181205   \n",
            "2  89.99           17.0        2022-09-22     2023-09-19       141785   \n",
            "3  35.49           49.0        2024-06-11     2023-11-03       181987   \n",
            "4  12.99           48.0        2023-04-08     2024-07-05       181346   \n",
            "\n",
            "   TotalStockValue  \n",
            "0           363.86  \n",
            "1           480.19  \n",
            "2          1529.83  \n",
            "3          1739.01  \n",
            "4           623.52  \n"
          ]
        }
      ]
    },
    {
      "cell_type": "code",
      "source": [],
      "metadata": {
        "id": "WhUq8iOzYLyW"
      },
      "execution_count": null,
      "outputs": []
    },
    {
      "cell_type": "code",
      "source": [
        "# Save transformed data to Excel\n",
        "product_data.to_excel(\"transformed_product_data.xlsx\", index=False)"
      ],
      "metadata": {
        "id": "19xDPRKVYL_i"
      },
      "execution_count": 66,
      "outputs": []
    }
  ]
}