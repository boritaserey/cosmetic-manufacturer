{
  "nbformat": 4,
  "nbformat_minor": 0,
  "metadata": {
    "colab": {
      "provenance": [],
      "authorship_tag": "ABX9TyPzzXvoaELLWhzdXa14jiq8",
      "include_colab_link": true
    },
    "kernelspec": {
      "name": "python3",
      "display_name": "Python 3"
    },
    "language_info": {
      "name": "python"
    }
  },
  "cells": [
    {
      "cell_type": "markdown",
      "metadata": {
        "id": "view-in-github",
        "colab_type": "text"
      },
      "source": [
        "<a href=\"https://colab.research.google.com/github/boritaserey/cosmetic-manufacturer/blob/main/cosmetics_manufacturer_db.ipynb\" target=\"_parent\"><img src=\"https://colab.research.google.com/assets/colab-badge.svg\" alt=\"Open In Colab\"/></a>"
      ]
    },
    {
      "cell_type": "code",
      "execution_count": null,
      "metadata": {
        "colab": {
          "base_uri": "https://localhost:8080/"
        },
        "id": "UY9Sc7ycqqkh",
        "outputId": "03129aa2-b0b8-40b4-bc62-540b461037c4"
      },
      "outputs": [
        {
          "output_type": "stream",
          "name": "stdout",
          "text": [
            "Requirement already satisfied: pandas in /usr/local/lib/python3.10/dist-packages (2.2.2)\n",
            "Collecting faker\n",
            "  Downloading Faker-33.0.0-py3-none-any.whl.metadata (15 kB)\n",
            "Requirement already satisfied: openpyxl in /usr/local/lib/python3.10/dist-packages (3.1.5)\n",
            "Requirement already satisfied: numpy>=1.22.4 in /usr/local/lib/python3.10/dist-packages (from pandas) (1.26.4)\n",
            "Requirement already satisfied: python-dateutil>=2.8.2 in /usr/local/lib/python3.10/dist-packages (from pandas) (2.8.2)\n",
            "Requirement already satisfied: pytz>=2020.1 in /usr/local/lib/python3.10/dist-packages (from pandas) (2024.2)\n",
            "Requirement already satisfied: tzdata>=2022.7 in /usr/local/lib/python3.10/dist-packages (from pandas) (2024.2)\n",
            "Requirement already satisfied: typing-extensions in /usr/local/lib/python3.10/dist-packages (from faker) (4.12.2)\n",
            "Requirement already satisfied: et-xmlfile in /usr/local/lib/python3.10/dist-packages (from openpyxl) (2.0.0)\n",
            "Requirement already satisfied: six>=1.5 in /usr/local/lib/python3.10/dist-packages (from python-dateutil>=2.8.2->pandas) (1.16.0)\n",
            "Downloading Faker-33.0.0-py3-none-any.whl (1.9 MB)\n",
            "\u001b[2K   \u001b[90m━━━━━━━━━━━━━━━━━━━━━━━━━━━━━━━━━━━━━━━━\u001b[0m \u001b[32m1.9/1.9 MB\u001b[0m \u001b[31m19.8 MB/s\u001b[0m eta \u001b[36m0:00:00\u001b[0m\n",
            "\u001b[?25hInstalling collected packages: faker\n",
            "Successfully installed faker-33.0.0\n"
          ]
        }
      ],
      "source": [
        "!pip install pandas faker openpyxl"
      ]
    },
    {
      "cell_type": "code",
      "source": [
        "import pandas as pd\n",
        "from faker import Faker\n",
        "import sqlite3\n",
        "from random import randint, uniform\n",
        "from datetime import datetime, timedelta"
      ],
      "metadata": {
        "id": "-pHNY65pq19c"
      },
      "execution_count": null,
      "outputs": []
    },
    {
      "cell_type": "code",
      "source": [
        "#Create data with Faker\n",
        "fake = Faker()\n",
        "\n",
        "#Connect to sql database\n",
        "conn = sqlite3.connect('cosmetics_manufacturer.db')\n",
        "cursor = conn.cursor()        #cursor fuction is used to retrieve and manipulate data one row at a time\n",
        "\n",
        "#Step 1: Create Table based on ERD\n",
        "\n",
        "#Product\n",
        "cursor.execute('''\n",
        "CREATE TABLE IF NOT EXISTS Product (\n",
        "    Product_ID INTEGER PRIMARY KEY,\n",
        "    Product_Name VARCHAR(30),\n",
        "    Category VARCHAR(30),\n",
        "    Size VARCHAR(10),\n",
        "    Color VARCHAR(30),\n",
        "    Smell VARCHAR(30),\n",
        "    Ingredients VARCHAR(255),\n",
        "    Packaging VARCHAR(30),\n",
        "    Price DECIMAL(10, 2),\n",
        "    StockQuantity INTEGER,\n",
        "    ManufacturingDate DATE,\n",
        "    Expirationdate DATE,\n",
        "    Supplier_ID INTERGER\n",
        ")\n",
        "''')\n",
        "\n",
        "#Suppliers\n",
        "cursor.execute('''\n",
        "CREATE TABLE IF NOT EXISTS Suppliers (\n",
        "    Supplier_ID INTEGER PRIMARY KEY,\n",
        "    Supplier_Name VARCHAR(50),\n",
        "    Supplier_ContactNumber VARCHAR(15),\n",
        "    Supplier_Address VARCHAR(100),\n",
        "    Supplier_City VARCHAR(30),\n",
        "    Supplier_Country VARCHAR(30),\n",
        "    ProductsSupplied VARCHAR(50)\n",
        ")\n",
        "''')\n",
        "\n",
        "#Inventory\n",
        "cursor.execute('''CREATE TABLE IF NOT EXISTS Inventory (\n",
        "    Inventory_ID INTEGER PRIMARY KEY,\n",
        "    Product_ID INTEGER,\n",
        "    WarehouseID INTEGER,\n",
        "    QuantityInStock INTEGER,\n",
        "    UnitPrice DECIMAL(15, 2),\n",
        "    ReorderLevel INTEGER,\n",
        "    DateReceived DATE\n",
        ")''')\n",
        "\n",
        "#Warehouse\n",
        "cursor.execute('''\n",
        "CREATE TABLE IF NOT EXISTS Warehouse (\n",
        "    WarehouseID INTEGER PRIMARY KEY,\n",
        "    WarehouseLocation VARCHAR(30),\n",
        "    Capacity_CubicMeters DECIMAL(10, 2),\n",
        "    Manager_ID INTEGER\n",
        ")\n",
        "''')\n",
        "\n",
        "#Customer\n",
        "cursor.execute('''\n",
        "CREATE TABLE IF NOT EXISTS Customer (\n",
        "    Customer_ID INTEGER PRIMARY KEY,\n",
        "    Customer_Name VARCHAR(50),\n",
        "    Customer_Email VARCHAR(50),\n",
        "    Customer_Address VARCHAR(100),\n",
        "    Customer_ContactNumber VARCHAR(15),\n",
        "    LoyaltyStatus ENUM\n",
        ")\n",
        "''')\n",
        "\n",
        "#Order\n",
        "cursor.execute('''\n",
        "CREATE TABLE IF NOT EXISTS \"Order\" (\n",
        "    Order_ID INTEGER PRIMARY KEY,\n",
        "    Order_Date DATETIME,\n",
        "    Customer_ID INTEGER,\n",
        "    TotalAmount DECIMAL(10, 2),\n",
        "    ShippingDate DATETIME,\n",
        "    Order_Status VARCHAR(20)\n",
        ")\n",
        "''')\n",
        "\n",
        "#OrderItem\n",
        "cursor.execute('''CREATE TABLE IF NOT EXISTS OrderItem (\n",
        "    OrderItem_ID INTEGER PRIMARY KEY,\n",
        "    Order_ID INTEGER,\n",
        "    Product_ID INTEGER,\n",
        "    Order_Quantity INTEGER,\n",
        "    UnitPrice DECIMAL(10 ,2)\n",
        ")''')\n",
        "\n",
        "#Batch\n",
        "cursor.execute('''CREATE TABLE IF NOT EXISTS Batch (\n",
        "    BatchID INTEGER PRIMARY KEY,\n",
        "    Product_ID INTEGER,\n",
        "    BatchDate DATE,\n",
        "    ExpirationDate DATE,\n",
        "    QuantityProduced INTEGER,\n",
        "    QualityCheckStatus VARCHAR(20)\n",
        ")''')\n",
        "\n",
        "#Manager\n",
        "cursor.execute('''CREATE TABLE IF NOT EXISTS Manager (\n",
        "    Manager_ID INTEGER PRIMARY KEY,\n",
        "    Manager_Name VARCHAR(50),\n",
        "    Department VARCHAR(30),\n",
        "    Manager_ContactNumber VARCHAR(15)\n",
        ")''')\n",
        "\n",
        "#Step 2: Generate Synthetic Data and Populate Tables\n",
        "\n",
        "# Define a function to generate a random date\n",
        "def random_date(start, end):\n",
        "    return start + timedelta(days=randint(0, (end - start).days))\n",
        "\n",
        "# Populate Product\n",
        "products = []\n",
        "cursor.execute(\"SELECT COUNT(*) FROM Product\")\n",
        "product_count = cursor.fetchone()[0]\n",
        "start_id = product_count + 1\n",
        "\n",
        "for i in range(start_id, start_id + 101):\n",
        "    products.append((\n",
        "        i,\n",
        "        fake.word(),\n",
        "        fake.word(),\n",
        "        f\"{randint(1, 5)}kg\",\n",
        "        fake.color_name(),\n",
        "        fake.word(),\n",
        "        fake.sentence(),\n",
        "        fake.word(),\n",
        "        round(uniform(5, 500), 2),\n",
        "        randint(0, 1000),\n",
        "        random_date(datetime(2022, 1, 1), datetime(2023, 1, 1)).strftime('%Y-%m-%d'),\n",
        "        random_date(datetime(2023, 1, 1), datetime(2025, 1, 1)).strftime('%Y-%m-%d'),\n",
        "        randint(1, 10)\n",
        "    ))\n",
        "# Insert data into the Products table\n",
        "cursor.executemany('''\n",
        "INSERT INTO Product (Product_ID, Product_Name, Category, Size, Color, Smell, Ingredients, Packaging, Price, StockQuantity, ManufacturingDate, ExpirationDate, Supplier_ID)\n",
        "VALUES (?, ?, ?, ?, ?, ?, ?, ?, ?, ?, ?, ?, ?)\n",
        "''', products)\n",
        "\n",
        "# Populate Suppliers\n",
        "suppliers = []\n",
        "cursor.execute(\"SELECT COUNT(*) FROM Suppliers\")\n",
        "supplier_count = cursor.fetchone()[0]\n",
        "start_id = supplier_count + 1\n",
        "\n",
        "\n",
        "for i in range(start_id, start_id + 11):\n",
        "    suppliers.append((\n",
        "        i,\n",
        "        fake.company(),\n",
        "        fake.phone_number(),\n",
        "        fake.address(),\n",
        "        fake.city(),\n",
        "        fake.country(),\n",
        "        fake.word()\n",
        "    ))\n",
        "# Insert data into the Suppliers table\n",
        "cursor.executemany('''\n",
        "INSERT INTO Suppliers (Supplier_ID, Supplier_Name, Supplier_ContactNumber, Supplier_Address, Supplier_City, Supplier_Country, ProductsSupplied)\n",
        "VALUES (?, ?, ?, ?, ?, ?, ?)\n",
        "''', suppliers)\n",
        "\n",
        "\n",
        "# Populate Inventory\n",
        "cursor.execute(\"SELECT MAX(Inventory_ID) FROM Inventory\") #get the max existing Inventory_ID\n",
        "max_id = cursor.fetchone()[0]\n",
        "if max_id is None:\n",
        "    max_id = 0 #start at 1 if table is empty\n",
        "start_id = max_id + 1\n",
        "\n",
        "\n",
        "inventory = []\n",
        "for i in range(start_id, start_id + 151):  # Assuming 150 inventory records\n",
        "    inventory.append((\n",
        "        i,\n",
        "        randint(1, 100),  # Product_ID (1-100)\n",
        "        randint(1, 10),  # WarehouseID (1-10)\n",
        "        randint(0, 1000),  # QuantityInStock (0-1000)\n",
        "        round(uniform(5, 500), 2),  # UnitPrice (5-500)\n",
        "        randint(10, 50),  # ReorderLevel (10-50)\n",
        "        random_date(datetime(2023, 1, 1), datetime(2023, 12, 31)).strftime('%Y-%m-%d')  # DateReceived\n",
        "    ))\n",
        "# Insert data into the Inventory table\n",
        "cursor.executemany('''INSERT INTO Inventory (Inventory_ID, Product_ID, WarehouseID, QuantityInStock, UnitPrice, ReorderLevel, DateReceived) VALUES (?, ?, ?, ?, ?, ?, ?)''', inventory)\n",
        "\n",
        "\n",
        "#Populate Warehouse\n",
        "warehouses = []\n",
        "cursor.execute(\"SELECT COUNT(*) FROM Warehouse\")\n",
        "warehouse_count = cursor.fetchone()[0]\n",
        "start_id = warehouse_count + 1\n",
        "\n",
        "for i in range(start_id, start_id + 11):  # Assuming 10 warehouses\n",
        "    warehouses.append((\n",
        "        i,\n",
        "        fake.city(),  # WarehouseLocation\n",
        "        round(uniform(100, 1000), 2),  # Capacity_CubicMeters (100 to 1000 cubic meters)\n",
        "        randint(1, 10)  # Manager_ID (assuming we have 10 managers)\n",
        "    ))\n",
        "# Insert data into the Warehouse table\n",
        "cursor.executemany('''\n",
        "    INSERT INTO Warehouse (WarehouseID, WarehouseLocation, Capacity_CubicMeters, Manager_ID)\n",
        "    VALUES (?, ?, ?, ?)\n",
        "''', warehouses)\n",
        "\n",
        "\n",
        "# Populate Customers\n",
        "customers = []\n",
        "cursor.execute(\"SELECT COUNT(*) FROM Customer\")  # Get the current count of customers\n",
        "customer_count = cursor.fetchone()[0]\n",
        "start_id = customer_count + 1\n",
        "\n",
        "for i in range(start_id, start_id + 51):\n",
        "    customers.append((\n",
        "        i,\n",
        "        fake.name(),\n",
        "        fake.email(),\n",
        "        fake.address(),\n",
        "        fake.phone_number(),\n",
        "        fake.random_element(elements=('Bronze', 'Silver', 'Gold', 'Platinum'))\n",
        "    ))\n",
        "# Insert data into the Customers table\n",
        "cursor.executemany('''\n",
        "INSERT INTO Customer (Customer_ID, Customer_Name, Customer_Email, Customer_Address, Customer_ContactNumber, LoyaltyStatus)\n",
        "VALUES (?, ?, ?, ?, ?, ?)\n",
        "''', customers)\n",
        "\n",
        "\n",
        "# Populate Orders\n",
        "orders = []\n",
        "# Get the current maximum Order_ID to avoid duplicates\n",
        "cursor.execute(\"SELECT MAX(Order_ID) FROM `Order`\")\n",
        "max_order_id = cursor.fetchone()[0]\n",
        "if max_order_id is None:\n",
        "    max_order_id = 0  # Start at 1 if the table is empty\n",
        "start_id = max_order_id + 1\n",
        "\n",
        "\n",
        "for i in range(start_id, start_id + 101):\n",
        "    orders.append((\n",
        "        i,\n",
        "        random_date(datetime(2023, 1, 1), datetime(2023, 12, 31)).strftime('%Y-%m-%d %H:%M:%S'),\n",
        "        randint(1, 50),\n",
        "        round(uniform(20, 2000), 2),\n",
        "        random_date(datetime(2023, 1, 1), datetime(2024, 1, 1)).strftime('%Y-%m-%d %H:%M:%S'),\n",
        "        fake.random_element(elements=('Pending', 'Shipped', 'Delivered', 'Cancelled'))\n",
        "    ))\n",
        "# Insert data into the Orders table\n",
        "cursor.executemany('''\n",
        "INSERT INTO \"Order\" (Order_ID, Order_Date, Customer_ID, TotalAmount, ShippingDate, Order_Status)\n",
        "VALUES (?, ?, ?, ?, ?, ?)\n",
        "''', orders)\n",
        "\n",
        "#populate OrderItem\n",
        "order_items = []\n",
        "# Get the current maximum OrderItem_ID to avoid duplicates\n",
        "cursor.execute(\"SELECT MAX(OrderItem_ID) FROM OrderItem\")\n",
        "max_order_item_id = cursor.fetchone()[0]\n",
        "if max_order_item_id is None:\n",
        "    max_order_item_id = 0  # Start at 1 if the table is empty\n",
        "start_id = max_order_item_id + 1\n",
        "\n",
        "for i in range(start_id, start_id + 201):  # Assuming 200 order items\n",
        "    order_items.append((\n",
        "        i,\n",
        "        randint(1, 100),  # Order_ID (1-100)\n",
        "        randint(1, 100),  # Product_ID (1-100)\n",
        "        randint(1, 20),  # Order_Quantity (1-20)\n",
        "        round(uniform(5, 500), 2)  # UnitPrice (5-500)\n",
        "    ))\n",
        "# Insert data into the OrderItem table\n",
        "cursor.executemany('''INSERT INTO OrderItem (OrderItem_ID, Order_ID, Product_ID, Order_Quantity, UnitPrice) VALUES (?, ?, ?, ?, ?)''', order_items)\n",
        "\n",
        "#Populate Batch\n",
        "batches = []\n",
        "cursor.execute(\"SELECT MAX(BatchID) FROM Batch\")\n",
        "max_batch_id = cursor.fetchone()[0]\n",
        "if max_batch_id is None:\n",
        "    max_batch_id = 0  # Start at 1 if the table is empty\n",
        "start_id = max_batch_id + 1\n",
        "\n",
        "\n",
        "for i in range(start_id, start_id + 101):  # Assuming 100 batches\n",
        "    batches.append((\n",
        "        i,\n",
        "        randint(1, 100),  # Product_ID (1-100)\n",
        "        random_date(datetime(2023, 1, 1), datetime(2023, 6, 30)).strftime('%Y-%m-%d'),  # BatchDate\n",
        "        random_date(datetime(2024, 1, 1), datetime(2025, 12, 31)).strftime('%Y-%m-%d'),  # ExpirationDate\n",
        "        randint(500, 5000),  # QuantityProduced (500-5000)\n",
        "        fake.random_element(elements=('Pass', 'Fail'))  # QualityCheckStatus\n",
        "    ))\n",
        "# Insert data into the Batches table\n",
        "cursor.executemany('''INSERT INTO Batch (BatchID, Product_ID, BatchDate, ExpirationDate, QuantityProduced, QualityCheckStatus) VALUES (?, ?, ?, ?, ?, ?)''', batches)\n",
        "\n",
        "\n",
        "# Populate Manager\n",
        "managers = []\n",
        "# Get the current maximum Manager_ID to avoid duplicates\n",
        "cursor.execute(\"SELECT MAX(Manager_ID) FROM Manager\")\n",
        "max_manager_id = cursor.fetchone()[0]\n",
        "if max_manager_id is None:\n",
        "    max_manager_id = 0  # Start at 1 if the table is empty\n",
        "start_id = max_manager_id + 1\n",
        "\n",
        "for i in range(start_id, start_id + 11):  # Assuming 10 managers\n",
        "    managers.append((\n",
        "        i,\n",
        "        fake.name(),  # Manager_Name\n",
        "        fake.job(),  # Department\n",
        "        fake.phone_number()  # Manager_ContactNumber\n",
        "    ))\n",
        "# Insert data into the Manager table\n",
        "cursor.executemany('''INSERT INTO Manager (Manager_ID, Manager_Name, Department, Manager_ContactNumber) VALUES (?, ?, ?, ?)''', managers)\n",
        "\n",
        "\n",
        "\n",
        "print(\"Database setup and data population complete!\")"
      ],
      "metadata": {
        "colab": {
          "base_uri": "https://localhost:8080/"
        },
        "id": "08k0nFOIq8Ti",
        "outputId": "d128c421-d653-4b25-e693-df44d98dbb5d"
      },
      "execution_count": null,
      "outputs": [
        {
          "output_type": "stream",
          "name": "stdout",
          "text": [
            "Database setup and data population complete!\n"
          ]
        }
      ]
    },
    {
      "cell_type": "code",
      "source": [
        "import os\n",
        "print(os.getcwd())"
      ],
      "metadata": {
        "colab": {
          "base_uri": "https://localhost:8080/"
        },
        "id": "yYRhcL67L0C1",
        "outputId": "f43ec7bc-af37-4fd0-f45d-79e754a3a5c9"
      },
      "execution_count": null,
      "outputs": [
        {
          "output_type": "stream",
          "name": "stdout",
          "text": [
            "/content\n"
          ]
        }
      ]
    },
    {
      "cell_type": "code",
      "source": [
        "from google.colab import drive\n",
        "drive.mount('/content/drive')\n",
        "conn = sqlite3.connect('/content/drive/My Drive/cosmetics_manufacturer.db')\n"
      ],
      "metadata": {
        "colab": {
          "base_uri": "https://localhost:8080/"
        },
        "id": "RDeUV9NCMdxU",
        "outputId": "e562b73c-eeb6-4b2f-8d33-8e2551c4cd54"
      },
      "execution_count": null,
      "outputs": [
        {
          "output_type": "stream",
          "name": "stdout",
          "text": [
            "Mounted at /content/drive\n"
          ]
        }
      ]
    },
    {
      "source": [
        "import sqlite3\n",
        "from google.colab import drive\n",
        "\n",
        "drive.mount('/content/drive')  # Mount Google Drive\n",
        "\n",
        "conn = sqlite3.connect('/content/drive/My Drive/cosmetics_manu.db')\n",
        "cursor = conn.cursor()\n",
        "\n",
        "# Your table creation and data insertion code here...\n",
        "\n",
        "conn.commit()  # Commit changes to the database file\n",
        "conn.close()  # Close the connection"
      ],
      "cell_type": "code",
      "metadata": {
        "colab": {
          "base_uri": "https://localhost:8080/"
        },
        "id": "jkX5imddOmNQ",
        "outputId": "f045eeab-93d9-4f2b-c2b7-bd07a3081e78"
      },
      "execution_count": null,
      "outputs": [
        {
          "output_type": "stream",
          "name": "stdout",
          "text": [
            "Drive already mounted at /content/drive; to attempt to forcibly remount, call drive.mount(\"/content/drive\", force_remount=True).\n"
          ]
        }
      ]
    },
    {
      "cell_type": "code",
      "source": [
        "from google.colab import files\n",
        "files.download('cosmetics_manufacturer.db')\n"
      ],
      "metadata": {
        "colab": {
          "base_uri": "https://localhost:8080/",
          "height": 17
        },
        "id": "VoFzW1cT0Uzy",
        "outputId": "43bc7375-7a51-4051-a2d5-4eb9195f4bcb"
      },
      "execution_count": null,
      "outputs": [
        {
          "output_type": "display_data",
          "data": {
            "text/plain": [
              "<IPython.core.display.Javascript object>"
            ],
            "application/javascript": [
              "\n",
              "    async function download(id, filename, size) {\n",
              "      if (!google.colab.kernel.accessAllowed) {\n",
              "        return;\n",
              "      }\n",
              "      const div = document.createElement('div');\n",
              "      const label = document.createElement('label');\n",
              "      label.textContent = `Downloading \"${filename}\": `;\n",
              "      div.appendChild(label);\n",
              "      const progress = document.createElement('progress');\n",
              "      progress.max = size;\n",
              "      div.appendChild(progress);\n",
              "      document.body.appendChild(div);\n",
              "\n",
              "      const buffers = [];\n",
              "      let downloaded = 0;\n",
              "\n",
              "      const channel = await google.colab.kernel.comms.open(id);\n",
              "      // Send a message to notify the kernel that we're ready.\n",
              "      channel.send({})\n",
              "\n",
              "      for await (const message of channel.messages) {\n",
              "        // Send a message to notify the kernel that we're ready.\n",
              "        channel.send({})\n",
              "        if (message.buffers) {\n",
              "          for (const buffer of message.buffers) {\n",
              "            buffers.push(buffer);\n",
              "            downloaded += buffer.byteLength;\n",
              "            progress.value = downloaded;\n",
              "          }\n",
              "        }\n",
              "      }\n",
              "      const blob = new Blob(buffers, {type: 'application/binary'});\n",
              "      const a = document.createElement('a');\n",
              "      a.href = window.URL.createObjectURL(blob);\n",
              "      a.download = filename;\n",
              "      div.appendChild(a);\n",
              "      a.click();\n",
              "      div.remove();\n",
              "    }\n",
              "  "
            ]
          },
          "metadata": {}
        },
        {
          "output_type": "display_data",
          "data": {
            "text/plain": [
              "<IPython.core.display.Javascript object>"
            ],
            "application/javascript": [
              "download(\"download_815ee393-11a8-4ad8-b930-e30c505684fc\", \"cosmetics_manufacturer.db\", 86016)"
            ]
          },
          "metadata": {}
        }
      ]
    },
    {
      "cell_type": "code",
      "source": [
        "import os\n",
        "print(\"Current working directory:\", os.getcwd())"
      ],
      "metadata": {
        "colab": {
          "base_uri": "https://localhost:8080/"
        },
        "id": "NNFO9Bs6V9IT",
        "outputId": "51c31946-79e0-493d-e2c0-b5f161d61928"
      },
      "execution_count": null,
      "outputs": [
        {
          "output_type": "stream",
          "name": "stdout",
          "text": [
            "Current working directory: /content\n"
          ]
        }
      ]
    }
  ]
}